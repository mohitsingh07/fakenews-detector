{
 "cells": [
  {
   "cell_type": "code",
   "execution_count": 1,
   "id": "d4cedda7",
   "metadata": {},
   "outputs": [
    {
     "name": "stdout",
     "output_type": "stream",
     "text": [
      "Pickle file compressed successfully.\n"
     ]
    }
   ],
   "source": [
    "import gzip\n",
    "import pickle\n",
    "\n",
    "def compress_pickle_file(file_path):\n",
    "    # Load the pickle file\n",
    "    with open(file_path, 'rb') as f:\n",
    "        data = pickle.load(f)\n",
    "\n",
    "    # Compress the pickle data\n",
    "    compressed_data = gzip.compress(pickle.dumps(data))\n",
    "\n",
    "    # Write the compressed data to a new file\n",
    "    compressed_file_path = file_path + '.gz'\n",
    "    with open(compressed_file_path, 'wb') as f:\n",
    "        f.write(compressed_data)\n",
    "\n",
    "    print('Pickle file compressed successfully.')\n",
    "\n",
    "# Example usage\n",
    "pickle_file_path = r'C:\\Users\\MOHIT SINGH\\Desktop\\main 2\\tfidfvect2.pkl'\n",
    "compress_pickle_file(pickle_file_path)\n"
   ]
  },
  {
   "cell_type": "code",
   "execution_count": null,
   "id": "a3c9b903",
   "metadata": {},
   "outputs": [],
   "source": []
  }
 ],
 "metadata": {
  "kernelspec": {
   "display_name": "Python 3 (ipykernel)",
   "language": "python",
   "name": "python3"
  },
  "language_info": {
   "codemirror_mode": {
    "name": "ipython",
    "version": 3
   },
   "file_extension": ".py",
   "mimetype": "text/x-python",
   "name": "python",
   "nbconvert_exporter": "python",
   "pygments_lexer": "ipython3",
   "version": "3.9.7"
  }
 },
 "nbformat": 4,
 "nbformat_minor": 5
}
